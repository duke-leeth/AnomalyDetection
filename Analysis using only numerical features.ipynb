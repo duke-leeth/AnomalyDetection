{
 "cells": [
  {
   "cell_type": "code",
   "execution_count": 1,
   "metadata": {
    "collapsed": true
   },
   "outputs": [],
   "source": [
    "from pandas import DataFrame, read_csv\n",
    "import matplotlib.pyplot as plt\n",
    "import pandas as pd \n",
    "import numpy as np\n",
    "from sklearn.metrics import precision_recall_fscore_support"
   ]
  },
  {
   "cell_type": "code",
   "execution_count": 2,
   "metadata": {
    "collapsed": true
   },
   "outputs": [],
   "source": [
    "# Read csv file\n",
    "Data = r'data/training.csv'\n",
    "data = pd.read_csv(Data)\n",
    "\n",
    "# Fill in missing value\n",
    "data = data.fillna(0)"
   ]
  },
  {
   "cell_type": "code",
   "execution_count": 3,
   "metadata": {},
   "outputs": [
    {
     "data": {
      "image/png": "[encoded data removed]",
      "text/plain": [
       "<matplotlib.figure.Figure at 0x1195f2780>"
      ]
     },
     "metadata": {},
     "output_type": "display_data"
    }
   ],
   "source": [
    "# Histogram of IsBadBuy column.\n",
    "plt.hist(data['IsBadBuy'])\n",
    "\n",
    "# title and label\n",
    "plt.title('No. of IsBadBuy')\n",
    "plt.xlabel('IsBadBuy')\n",
    "plt.ylabel('No.')\n",
    "\n",
    "# show\n",
    "plt.show()"
   ]
  },
  {
   "cell_type": "code",
   "execution_count": 4,
   "metadata": {},
   "outputs": [
    {
     "data": {
      "text/html": [
       "<div>\n",
       "<table border=\"1\" class=\"dataframe\">\n",
       "  <thead>\n",
       "    <tr style=\"text-align: right;\">\n",
       "      <th></th>\n",
       "      <th>RefId</th>\n",
       "      <th>IsBadBuy</th>\n",
       "      <th>PurchDate</th>\n",
       "      <th>Auction</th>\n",
       "      <th>VehYear</th>\n",
       "      <th>VehicleAge</th>\n",
       "      <th>Make</th>\n",
       "      <th>Model</th>\n",
       "      <th>Trim</th>\n",
       "      <th>SubModel</th>\n",
       "      <th>...</th>\n",
       "      <th>MMRCurrentRetailAveragePrice</th>\n",
       "      <th>MMRCurrentRetailCleanPrice</th>\n",
       "      <th>PRIMEUNIT</th>\n",
       "      <th>AUCGUART</th>\n",
       "      <th>BYRNO</th>\n",
       "      <th>VNZIP1</th>\n",
       "      <th>VNST</th>\n",
       "      <th>VehBCost</th>\n",
       "      <th>IsOnlineSale</th>\n",
       "      <th>WarrantyCost</th>\n",
       "    </tr>\n",
       "  </thead>\n",
       "  <tbody>\n",
       "    <tr>\n",
       "      <th>0</th>\n",
       "      <td>1</td>\n",
       "      <td>0</td>\n",
       "      <td>12/7/2009</td>\n",
       "      <td>ADESA</td>\n",
       "      <td>2006</td>\n",
       "      <td>3</td>\n",
       "      <td>MAZDA</td>\n",
       "      <td>MAZDA3</td>\n",
       "      <td>i</td>\n",
       "      <td>4D SEDAN I</td>\n",
       "      <td>...</td>\n",
       "      <td>11597.0</td>\n",
       "      <td>12409.0</td>\n",
       "      <td>0</td>\n",
       "      <td>0</td>\n",
       "      <td>21973</td>\n",
       "      <td>33619</td>\n",
       "      <td>FL</td>\n",
       "      <td>7100.0</td>\n",
       "      <td>0</td>\n",
       "      <td>1113</td>\n",
       "    </tr>\n",
       "  </tbody>\n",
       "</table>\n",
       "<p>1 rows × 34 columns</p>\n",
       "</div>"
      ],
      "text/plain": [
       "   RefId  IsBadBuy  PurchDate Auction  VehYear  VehicleAge   Make   Model  \\\n",
       "0      1         0  12/7/2009   ADESA     2006           3  MAZDA  MAZDA3   \n",
       "\n",
       "  Trim    SubModel      ...      MMRCurrentRetailAveragePrice  \\\n",
       "0    i  4D SEDAN I      ...                           11597.0   \n",
       "\n",
       "  MMRCurrentRetailCleanPrice  PRIMEUNIT AUCGUART  BYRNO VNZIP1 VNST VehBCost  \\\n",
       "0                    12409.0          0        0  21973  33619   FL   7100.0   \n",
       "\n",
       "   IsOnlineSale  WarrantyCost  \n",
       "0             0          1113  \n",
       "\n",
       "[1 rows x 34 columns]"
      ]
     },
     "execution_count": 4,
     "metadata": {},
     "output_type": "execute_result"
    }
   ],
   "source": [
    "data.head(1)"
   ]
  },
  {
   "cell_type": "code",
   "execution_count": 5,
   "metadata": {
    "collapsed": true
   },
   "outputs": [],
   "source": [
    "# Cleanning to avoid multicollinearity\n",
    "dummy_WheelTypeID = pd.get_dummies(data['WheelTypeID'], prefix=['WheelTypeID'], drop_first=True)\n",
    "\n",
    "data.drop('WheelTypeID', axis=1, inplace=True)\n",
    "\n",
    "data = data.join(dummy_WheelTypeID)\n"
   ]
  },
  {
   "cell_type": "code",
   "execution_count": 6,
   "metadata": {},
   "outputs": [
    {
     "data": {
      "text/html": [
       "<div>\n",
       "<table border=\"1\" class=\"dataframe\">\n",
       "  <thead>\n",
       "    <tr style=\"text-align: right;\">\n",
       "      <th></th>\n",
       "      <th>RefId</th>\n",
       "      <th>IsBadBuy</th>\n",
       "      <th>PurchDate</th>\n",
       "      <th>Auction</th>\n",
       "      <th>VehYear</th>\n",
       "      <th>VehicleAge</th>\n",
       "      <th>Make</th>\n",
       "      <th>Model</th>\n",
       "      <th>Trim</th>\n",
       "      <th>SubModel</th>\n",
       "      <th>...</th>\n",
       "      <th>AUCGUART</th>\n",
       "      <th>BYRNO</th>\n",
       "      <th>VNZIP1</th>\n",
       "      <th>VNST</th>\n",
       "      <th>VehBCost</th>\n",
       "      <th>IsOnlineSale</th>\n",
       "      <th>WarrantyCost</th>\n",
       "      <th>['WheelTypeID']_1.0</th>\n",
       "      <th>['WheelTypeID']_2.0</th>\n",
       "      <th>['WheelTypeID']_3.0</th>\n",
       "    </tr>\n",
       "  </thead>\n",
       "  <tbody>\n",
       "    <tr>\n",
       "      <th>0</th>\n",
       "      <td>1</td>\n",
       "      <td>0</td>\n",
       "      <td>12/7/2009</td>\n",
       "      <td>ADESA</td>\n",
       "      <td>2006</td>\n",
       "      <td>3</td>\n",
       "      <td>MAZDA</td>\n",
       "      <td>MAZDA3</td>\n",
       "      <td>i</td>\n",
       "      <td>4D SEDAN I</td>\n",
       "      <td>...</td>\n",
       "      <td>0</td>\n",
       "      <td>21973</td>\n",
       "      <td>33619</td>\n",
       "      <td>FL</td>\n",
       "      <td>7100.0</td>\n",
       "      <td>0</td>\n",
       "      <td>1113</td>\n",
       "      <td>1</td>\n",
       "      <td>0</td>\n",
       "      <td>0</td>\n",
       "    </tr>\n",
       "    <tr>\n",
       "      <th>1</th>\n",
       "      <td>2</td>\n",
       "      <td>0</td>\n",
       "      <td>12/7/2009</td>\n",
       "      <td>ADESA</td>\n",
       "      <td>2004</td>\n",
       "      <td>5</td>\n",
       "      <td>DODGE</td>\n",
       "      <td>1500 RAM PICKUP 2WD</td>\n",
       "      <td>ST</td>\n",
       "      <td>QUAD CAB 4.7L SLT</td>\n",
       "      <td>...</td>\n",
       "      <td>0</td>\n",
       "      <td>19638</td>\n",
       "      <td>33619</td>\n",
       "      <td>FL</td>\n",
       "      <td>7600.0</td>\n",
       "      <td>0</td>\n",
       "      <td>1053</td>\n",
       "      <td>1</td>\n",
       "      <td>0</td>\n",
       "      <td>0</td>\n",
       "    </tr>\n",
       "    <tr>\n",
       "      <th>2</th>\n",
       "      <td>3</td>\n",
       "      <td>0</td>\n",
       "      <td>12/7/2009</td>\n",
       "      <td>ADESA</td>\n",
       "      <td>2005</td>\n",
       "      <td>4</td>\n",
       "      <td>DODGE</td>\n",
       "      <td>STRATUS V6</td>\n",
       "      <td>SXT</td>\n",
       "      <td>4D SEDAN SXT FFV</td>\n",
       "      <td>...</td>\n",
       "      <td>0</td>\n",
       "      <td>19638</td>\n",
       "      <td>33619</td>\n",
       "      <td>FL</td>\n",
       "      <td>4900.0</td>\n",
       "      <td>0</td>\n",
       "      <td>1389</td>\n",
       "      <td>0</td>\n",
       "      <td>1</td>\n",
       "      <td>0</td>\n",
       "    </tr>\n",
       "    <tr>\n",
       "      <th>3</th>\n",
       "      <td>4</td>\n",
       "      <td>0</td>\n",
       "      <td>12/7/2009</td>\n",
       "      <td>ADESA</td>\n",
       "      <td>2004</td>\n",
       "      <td>5</td>\n",
       "      <td>DODGE</td>\n",
       "      <td>NEON</td>\n",
       "      <td>SXT</td>\n",
       "      <td>4D SEDAN</td>\n",
       "      <td>...</td>\n",
       "      <td>0</td>\n",
       "      <td>19638</td>\n",
       "      <td>33619</td>\n",
       "      <td>FL</td>\n",
       "      <td>4100.0</td>\n",
       "      <td>0</td>\n",
       "      <td>630</td>\n",
       "      <td>1</td>\n",
       "      <td>0</td>\n",
       "      <td>0</td>\n",
       "    </tr>\n",
       "    <tr>\n",
       "      <th>4</th>\n",
       "      <td>5</td>\n",
       "      <td>0</td>\n",
       "      <td>12/7/2009</td>\n",
       "      <td>ADESA</td>\n",
       "      <td>2005</td>\n",
       "      <td>4</td>\n",
       "      <td>FORD</td>\n",
       "      <td>FOCUS</td>\n",
       "      <td>ZX3</td>\n",
       "      <td>2D COUPE ZX3</td>\n",
       "      <td>...</td>\n",
       "      <td>0</td>\n",
       "      <td>19638</td>\n",
       "      <td>33619</td>\n",
       "      <td>FL</td>\n",
       "      <td>4000.0</td>\n",
       "      <td>0</td>\n",
       "      <td>1020</td>\n",
       "      <td>0</td>\n",
       "      <td>1</td>\n",
       "      <td>0</td>\n",
       "    </tr>\n",
       "  </tbody>\n",
       "</table>\n",
       "<p>5 rows × 36 columns</p>\n",
       "</div>"
      ],
      "text/plain": [
       "   RefId  IsBadBuy  PurchDate Auction  VehYear  VehicleAge   Make  \\\n",
       "0      1         0  12/7/2009   ADESA     2006           3  MAZDA   \n",
       "1      2         0  12/7/2009   ADESA     2004           5  DODGE   \n",
       "2      3         0  12/7/2009   ADESA     2005           4  DODGE   \n",
       "3      4         0  12/7/2009   ADESA     2004           5  DODGE   \n",
       "4      5         0  12/7/2009   ADESA     2005           4   FORD   \n",
       "\n",
       "                 Model Trim           SubModel         ...          AUCGUART  \\\n",
       "0               MAZDA3    i         4D SEDAN I         ...                 0   \n",
       "1  1500 RAM PICKUP 2WD   ST  QUAD CAB 4.7L SLT         ...                 0   \n",
       "2           STRATUS V6  SXT   4D SEDAN SXT FFV         ...                 0   \n",
       "3                 NEON  SXT           4D SEDAN         ...                 0   \n",
       "4                FOCUS  ZX3       2D COUPE ZX3         ...                 0   \n",
       "\n",
       "   BYRNO VNZIP1  VNST VehBCost IsOnlineSale WarrantyCost  ['WheelTypeID']_1.0  \\\n",
       "0  21973  33619    FL   7100.0            0         1113                    1   \n",
       "1  19638  33619    FL   7600.0            0         1053                    1   \n",
       "2  19638  33619    FL   4900.0            0         1389                    0   \n",
       "3  19638  33619    FL   4100.0            0          630                    1   \n",
       "4  19638  33619    FL   4000.0            0         1020                    0   \n",
       "\n",
       "   ['WheelTypeID']_2.0  ['WheelTypeID']_3.0  \n",
       "0                    0                    0  \n",
       "1                    0                    0  \n",
       "2                    1                    0  \n",
       "3                    0                    0  \n",
       "4                    1                    0  \n",
       "\n",
       "[5 rows x 36 columns]"
      ]
     },
     "execution_count": 6,
     "metadata": {},
     "output_type": "execute_result"
    }
   ],
   "source": [
    "data.head(5)"
   ]
  },
  {
   "cell_type": "code",
   "execution_count": null,
   "metadata": {
    "collapsed": true
   },
   "outputs": [],
   "source": []
  },
  {
   "cell_type": "code",
   "execution_count": 7,
   "metadata": {
    "collapsed": true
   },
   "outputs": [],
   "source": [
    "# Only includes the numerical features\n",
    "data = data._get_numeric_data()"
   ]
  },
  {
   "cell_type": "code",
   "execution_count": null,
   "metadata": {
    "collapsed": true
   },
   "outputs": [],
   "source": []
  },
  {
   "cell_type": "code",
   "execution_count": 8,
   "metadata": {
    "collapsed": true
   },
   "outputs": [],
   "source": [
    "# shuffle data sequence in random\n",
    "from sklearn.utils import shuffle\n",
    "data_shf = shuffle(data)\n",
    "\n",
    "# m: no. of samples\n",
    "# n: no. of features\n",
    "(m, n) = data_shf.shape"
   ]
  },
  {
   "cell_type": "code",
   "execution_count": 9,
   "metadata": {},
   "outputs": [
    {
     "data": {
      "text/plain": [
       "(72983, 21)"
      ]
     },
     "execution_count": 9,
     "metadata": {},
     "output_type": "execute_result"
    }
   ],
   "source": [
    "m, n"
   ]
  },
  {
   "cell_type": "code",
   "execution_count": 10,
   "metadata": {
    "collapsed": true
   },
   "outputs": [],
   "source": [
    "# Identify feature columns\n",
    "fea_cols = data_shf.columns[2:]\n",
    "\n",
    "X = data_shf[fea_cols]\n",
    "Y = data_shf['IsBadBuy']"
   ]
  },
  {
   "cell_type": "code",
   "execution_count": 11,
   "metadata": {},
   "outputs": [
    {
     "name": "stdout",
     "output_type": "stream",
     "text": [
      "(72983, 19) (72983,)\n"
     ]
    }
   ],
   "source": [
    "print (X.shape, Y.shape)"
   ]
  },
  {
   "cell_type": "code",
   "execution_count": null,
   "metadata": {
    "collapsed": true
   },
   "outputs": [],
   "source": []
  },
  {
   "cell_type": "code",
   "execution_count": 12,
   "metadata": {
    "collapsed": true
   },
   "outputs": [],
   "source": [
    "# Normalizing feaures\n",
    "from sklearn.preprocessing import StandardScaler\n",
    "normalized_X = StandardScaler().fit_transform(X)"
   ]
  },
  {
   "cell_type": "code",
   "execution_count": null,
   "metadata": {
    "collapsed": true
   },
   "outputs": [],
   "source": []
  },
  {
   "cell_type": "code",
   "execution_count": 13,
   "metadata": {
    "collapsed": true
   },
   "outputs": [],
   "source": [
    "# folds for training and testing\n",
    "folds = 5"
   ]
  },
  {
   "cell_type": "code",
   "execution_count": 14,
   "metadata": {
    "collapsed": true
   },
   "outputs": [],
   "source": [
    "# Slicing into training and testing set\n",
    "ta_x = normalized_X[round(m/folds) + 1:]\n",
    "ta_y = Y[round(m/folds) + 1:]\n",
    "\n",
    "tt_x = normalized_X[:round(m/folds)]\n",
    "tt_y = Y[:round(m/folds)]\n"
   ]
  },
  {
   "cell_type": "code",
   "execution_count": 15,
   "metadata": {},
   "outputs": [
    {
     "name": "stdout",
     "output_type": "stream",
     "text": [
      "(58385, 19) (58385,) (14597, 19) (14597,)\n"
     ]
    }
   ],
   "source": [
    "print (ta_x.shape, ta_y.shape, tt_x.shape, tt_y.shape)"
   ]
  },
  {
   "cell_type": "code",
   "execution_count": 22,
   "metadata": {},
   "outputs": [
    {
     "name": "stdout",
     "output_type": "stream",
     "text": [
      "===== IsolationForest =====\n",
      "(Precision, Recall, fbeta_score, None):  (0.11601369341955116, 0.8734249713631157, 0.20482170438519912, None)\n"
     ]
    }
   ],
   "source": [
    "# IsolationForest\n",
    "from sklearn.ensemble import IsolationForest\n",
    "clf = IsolationForest(max_samples=500)\n",
    "\n",
    "# Training\n",
    "clf.fit(ta_x)\n",
    "\n",
    "# Prediction\n",
    "tt_pred_y = clf.predict(tt_x)\n",
    "np.place(tt_pred_y, tt_pred_y==-1, 0)\n",
    "\n",
    "# Performance measurement\n",
    "print ('===== IsolationForest =====')\n",
    "print ( '(Precision, Recall, fbeta_score, None): ', precision_recall_fscore_support(tt_y, tt_pred_y, average='binary'))"
   ]
  },
  {
   "cell_type": "code",
   "execution_count": null,
   "metadata": {
    "collapsed": true
   },
   "outputs": [],
   "source": []
  },
  {
   "cell_type": "code",
   "execution_count": 24,
   "metadata": {
    "collapsed": true
   },
   "outputs": [],
   "source": [
    "# Logistic Regression and SVM\n",
    "from sklearn import svm"
   ]
  },
  {
   "cell_type": "code",
   "execution_count": 18,
   "metadata": {},
   "outputs": [
    {
     "name": "stdout",
     "output_type": "stream",
     "text": [
      "===== Logistic Regression =====\n",
      "(Precision, Recall, fbeta_score, None) :  (0.7102177554438861, 0.24256292906178489, 0.36162046908315565, None)\n"
     ]
    }
   ],
   "source": [
    "## Logistic Regression\n",
    "clf = svm.SVC()\n",
    "\n",
    "# Linear Kernel\n",
    "clf.set_params(kernel='linear').fit(ta_x, ta_y)\n",
    "\n",
    "# Logistic Regression Prediction\n",
    "tt_pred_y = clf.predict(tt_x)\n",
    "\n",
    "# Performance measurement\n",
    "print ('===== Logistic Regression =====')\n",
    "print ( '(Precision, Recall, fbeta_score, None): ', precision_recall_fscore_support(tt_y, tt_pred_y, average='binary'))"
   ]
  },
  {
   "cell_type": "code",
   "execution_count": null,
   "metadata": {
    "collapsed": true
   },
   "outputs": [],
   "source": []
  },
  {
   "cell_type": "code",
   "execution_count": 19,
   "metadata": {},
   "outputs": [
    {
     "name": "stdout",
     "output_type": "stream",
     "text": [
      "===== SVM =====\n",
      "(Precision, Recall, fbeta_score, None) :  (0.75227686703096541, 0.23627002288329518, 0.35959947757945143, None)\n"
     ]
    }
   ],
   "source": [
    "## SVM\n",
    "clf = svm.SVC()\n",
    "\n",
    "# RBF Kernel\n",
    "clf.set_params(kernel='rbf').fit(ta_x, ta_y)\n",
    "\n",
    "# SVM Prediction\n",
    "tt_pred_y = clf.predict(tt_x)\n",
    "\n",
    "# Performance measurement\n",
    "print ('===== SVM =====')\n",
    "print ( '(Precision, Recall, fbeta_score, None): ', precision_recall_fscore_support(tt_y, tt_pred_y, average='binary'))"
   ]
  },
  {
   "cell_type": "code",
   "execution_count": null,
   "metadata": {
    "collapsed": true
   },
   "outputs": [],
   "source": []
  },
  {
   "cell_type": "code",
   "execution_count": 27,
   "metadata": {},
   "outputs": [
    {
     "name": "stdout",
     "output_type": "stream",
     "text": [
      "===== Unsupervised SVM =====\n",
      "(Precision, Recall, fbeta_score, None):  (0.1099008518363357, 0.45074455899198168, 0.17671494330302009, None)\n"
     ]
    }
   ],
   "source": [
    "## Unsupervised SVM\n",
    "clf = svm.OneClassSVM(kernel=\"rbf\")\n",
    "ta_x_regular = ta_x[ np.where(ta_y == 0)[0] ]\n",
    "clf.fit(ta_x_regular)\n",
    "\n",
    "# SVM Prediction\n",
    "\n",
    "tt_pred_y = clf.predict(tt_x)\n",
    "\n",
    "# Performance measurement\n",
    "print ('===== Unsupervised SVM =====')\n",
    "print ( '(Precision, Recall, fbeta_score, None): ', precision_recall_fscore_support(tt_y, tt_pred_y, average='binary'))"
   ]
  },
  {
   "cell_type": "markdown",
   "metadata": {},
   "source": [
    "# Summary\n",
    "\n",
    "## Procedure:\n",
    "* read from csv file\n",
    "* dealing with missing values\n",
    "* excluding category features\n",
    "* performing differenct models\n",
    "\n",
    "\n",
    "## Conclusion \n",
    "We can see that in the fast testing result, based on the four model above, IsolationForest performance the best on recall 0.87, while SVM perform the best on precision 0.75. Since the problem wants to detect the anaomoly (around 1/7 of data), we need to find the few outliers. Thus, we care more about recall than precision. Therefore, IsolationForest performs well. I then try to include all the features given by the dataset. Please check the 'Analysis using all features.ipynb' for further computation.\n",
    "\n",
    "\n"
   ]
  },
  {
   "cell_type": "code",
   "execution_count": null,
   "metadata": {
    "collapsed": true
   },
   "outputs": [],
   "source": []
  }
 ],
 "metadata": {
  "anaconda-cloud": {},
  "kernelspec": {
   "display_name": "Python [conda env:py36]",
   "language": "python",
   "name": "conda-env-py36-py"
  },
  "language_info": {
   "codemirror_mode": {
    "name": "ipython",
    "version": 3
   },
   "file_extension": ".py",
   "mimetype": "text/x-python",
   "name": "python",
   "nbconvert_exporter": "python",
   "pygments_lexer": "ipython3",
   "version": "3.6.0"
  }
 },
 "nbformat": 4,
 "nbformat_minor": 2
}
