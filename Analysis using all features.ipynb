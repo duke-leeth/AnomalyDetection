{
 "cells": [
  {
   "cell_type": "code",
   "execution_count": 1,
   "metadata": {
    "collapsed": true
   },
   "outputs": [],
   "source": [
    "from pandas import DataFrame, read_csv\n",
    "import matplotlib.pyplot as plt\n",
    "import pandas as pd \n",
    "import numpy as np"
   ]
  },
  {
   "cell_type": "code",
   "execution_count": 2,
   "metadata": {
    "collapsed": true
   },
   "outputs": [],
   "source": [
    "# Read csv file\n",
    "Data = r'data/training.csv'\n",
    "data = pd.read_csv(Data)"
   ]
  },
  {
   "cell_type": "code",
   "execution_count": 3,
   "metadata": {
    "collapsed": true
   },
   "outputs": [],
   "source": [
    "# Drop missing value\n",
    "## data = data.dropna()"
   ]
  },
  {
   "cell_type": "code",
   "execution_count": 4,
   "metadata": {
    "collapsed": true
   },
   "outputs": [],
   "source": [
    "# Fill in missing value\n",
    "data = data.fillna(0)"
   ]
  },
  {
   "cell_type": "code",
   "execution_count": 5,
   "metadata": {},
   "outputs": [
    {
     "data": {
      "image/png": "[encoded data removed]",
      "text/plain": [
       "<matplotlib.figure.Figure at 0x11600f6a0>"
      ]
     },
     "metadata": {},
     "output_type": "display_data"
    }
   ],
   "source": [
    "# Histogram of IsBadBuy column.\n",
    "plt.hist(data['IsBadBuy'])\n",
    "\n",
    "# title and label\n",
    "plt.title('No. of IsBadBuy')\n",
    "plt.xlabel('IsBadBuy')\n",
    "plt.ylabel('No.')\n",
    "\n",
    "# show\n",
    "plt.show()"
   ]
  },
  {
   "cell_type": "code",
   "execution_count": 6,
   "metadata": {},
   "outputs": [
    {
     "data": {
      "text/html": [
       "<div>\n",
       "<table border=\"1\" class=\"dataframe\">\n",
       "  <thead>\n",
       "    <tr style=\"text-align: right;\">\n",
       "      <th></th>\n",
       "      <th>RefId</th>\n",
       "      <th>IsBadBuy</th>\n",
       "      <th>PurchDate</th>\n",
       "      <th>Auction</th>\n",
       "      <th>VehYear</th>\n",
       "      <th>VehicleAge</th>\n",
       "      <th>Make</th>\n",
       "      <th>Model</th>\n",
       "      <th>Trim</th>\n",
       "      <th>SubModel</th>\n",
       "      <th>...</th>\n",
       "      <th>MMRCurrentRetailAveragePrice</th>\n",
       "      <th>MMRCurrentRetailCleanPrice</th>\n",
       "      <th>PRIMEUNIT</th>\n",
       "      <th>AUCGUART</th>\n",
       "      <th>BYRNO</th>\n",
       "      <th>VNZIP1</th>\n",
       "      <th>VNST</th>\n",
       "      <th>VehBCost</th>\n",
       "      <th>IsOnlineSale</th>\n",
       "      <th>WarrantyCost</th>\n",
       "    </tr>\n",
       "  </thead>\n",
       "  <tbody>\n",
       "    <tr>\n",
       "      <th>0</th>\n",
       "      <td>1</td>\n",
       "      <td>0</td>\n",
       "      <td>12/7/2009</td>\n",
       "      <td>ADESA</td>\n",
       "      <td>2006</td>\n",
       "      <td>3</td>\n",
       "      <td>MAZDA</td>\n",
       "      <td>MAZDA3</td>\n",
       "      <td>i</td>\n",
       "      <td>4D SEDAN I</td>\n",
       "      <td>...</td>\n",
       "      <td>11597.0</td>\n",
       "      <td>12409.0</td>\n",
       "      <td>0</td>\n",
       "      <td>0</td>\n",
       "      <td>21973</td>\n",
       "      <td>33619</td>\n",
       "      <td>FL</td>\n",
       "      <td>7100.0</td>\n",
       "      <td>0</td>\n",
       "      <td>1113</td>\n",
       "    </tr>\n",
       "  </tbody>\n",
       "</table>\n",
       "<p>1 rows × 34 columns</p>\n",
       "</div>"
      ],
      "text/plain": [
       "   RefId  IsBadBuy  PurchDate Auction  VehYear  VehicleAge   Make   Model  \\\n",
       "0      1         0  12/7/2009   ADESA     2006           3  MAZDA  MAZDA3   \n",
       "\n",
       "  Trim    SubModel      ...      MMRCurrentRetailAveragePrice  \\\n",
       "0    i  4D SEDAN I      ...                           11597.0   \n",
       "\n",
       "  MMRCurrentRetailCleanPrice  PRIMEUNIT AUCGUART  BYRNO VNZIP1 VNST VehBCost  \\\n",
       "0                    12409.0          0        0  21973  33619   FL   7100.0   \n",
       "\n",
       "   IsOnlineSale  WarrantyCost  \n",
       "0             0          1113  \n",
       "\n",
       "[1 rows x 34 columns]"
      ]
     },
     "execution_count": 6,
     "metadata": {},
     "output_type": "execute_result"
    }
   ],
   "source": [
    "data.head(1)"
   ]
  },
  {
   "cell_type": "code",
   "execution_count": null,
   "metadata": {
    "collapsed": true
   },
   "outputs": [],
   "source": []
  },
  {
   "cell_type": "code",
   "execution_count": null,
   "metadata": {
    "collapsed": true
   },
   "outputs": [],
   "source": []
  },
  {
   "cell_type": "code",
   "execution_count": 7,
   "metadata": {
    "collapsed": true
   },
   "outputs": [],
   "source": [
    "# Cleanning to avoid multicollinearity\n",
    "dummy_WheelTypeID = pd.get_dummies(data['WheelTypeID'], prefix=['WheelTypeID'], drop_first=True)\n",
    "\n",
    "data.drop('WheelTypeID', axis=1, inplace=True)\n",
    "\n",
    "data = data.join(dummy_WheelTypeID)"
   ]
  },
  {
   "cell_type": "code",
   "execution_count": 8,
   "metadata": {},
   "outputs": [
    {
     "data": {
      "text/html": [
       "<div>\n",
       "<table border=\"1\" class=\"dataframe\">\n",
       "  <thead>\n",
       "    <tr style=\"text-align: right;\">\n",
       "      <th></th>\n",
       "      <th>RefId</th>\n",
       "      <th>IsBadBuy</th>\n",
       "      <th>PurchDate</th>\n",
       "      <th>Auction</th>\n",
       "      <th>VehYear</th>\n",
       "      <th>VehicleAge</th>\n",
       "      <th>Make</th>\n",
       "      <th>Model</th>\n",
       "      <th>Trim</th>\n",
       "      <th>SubModel</th>\n",
       "      <th>...</th>\n",
       "      <th>AUCGUART</th>\n",
       "      <th>BYRNO</th>\n",
       "      <th>VNZIP1</th>\n",
       "      <th>VNST</th>\n",
       "      <th>VehBCost</th>\n",
       "      <th>IsOnlineSale</th>\n",
       "      <th>WarrantyCost</th>\n",
       "      <th>['WheelTypeID']_1.0</th>\n",
       "      <th>['WheelTypeID']_2.0</th>\n",
       "      <th>['WheelTypeID']_3.0</th>\n",
       "    </tr>\n",
       "  </thead>\n",
       "  <tbody>\n",
       "    <tr>\n",
       "      <th>0</th>\n",
       "      <td>1</td>\n",
       "      <td>0</td>\n",
       "      <td>12/7/2009</td>\n",
       "      <td>ADESA</td>\n",
       "      <td>2006</td>\n",
       "      <td>3</td>\n",
       "      <td>MAZDA</td>\n",
       "      <td>MAZDA3</td>\n",
       "      <td>i</td>\n",
       "      <td>4D SEDAN I</td>\n",
       "      <td>...</td>\n",
       "      <td>0</td>\n",
       "      <td>21973</td>\n",
       "      <td>33619</td>\n",
       "      <td>FL</td>\n",
       "      <td>7100.0</td>\n",
       "      <td>0</td>\n",
       "      <td>1113</td>\n",
       "      <td>1</td>\n",
       "      <td>0</td>\n",
       "      <td>0</td>\n",
       "    </tr>\n",
       "    <tr>\n",
       "      <th>1</th>\n",
       "      <td>2</td>\n",
       "      <td>0</td>\n",
       "      <td>12/7/2009</td>\n",
       "      <td>ADESA</td>\n",
       "      <td>2004</td>\n",
       "      <td>5</td>\n",
       "      <td>DODGE</td>\n",
       "      <td>1500 RAM PICKUP 2WD</td>\n",
       "      <td>ST</td>\n",
       "      <td>QUAD CAB 4.7L SLT</td>\n",
       "      <td>...</td>\n",
       "      <td>0</td>\n",
       "      <td>19638</td>\n",
       "      <td>33619</td>\n",
       "      <td>FL</td>\n",
       "      <td>7600.0</td>\n",
       "      <td>0</td>\n",
       "      <td>1053</td>\n",
       "      <td>1</td>\n",
       "      <td>0</td>\n",
       "      <td>0</td>\n",
       "    </tr>\n",
       "    <tr>\n",
       "      <th>2</th>\n",
       "      <td>3</td>\n",
       "      <td>0</td>\n",
       "      <td>12/7/2009</td>\n",
       "      <td>ADESA</td>\n",
       "      <td>2005</td>\n",
       "      <td>4</td>\n",
       "      <td>DODGE</td>\n",
       "      <td>STRATUS V6</td>\n",
       "      <td>SXT</td>\n",
       "      <td>4D SEDAN SXT FFV</td>\n",
       "      <td>...</td>\n",
       "      <td>0</td>\n",
       "      <td>19638</td>\n",
       "      <td>33619</td>\n",
       "      <td>FL</td>\n",
       "      <td>4900.0</td>\n",
       "      <td>0</td>\n",
       "      <td>1389</td>\n",
       "      <td>0</td>\n",
       "      <td>1</td>\n",
       "      <td>0</td>\n",
       "    </tr>\n",
       "    <tr>\n",
       "      <th>3</th>\n",
       "      <td>4</td>\n",
       "      <td>0</td>\n",
       "      <td>12/7/2009</td>\n",
       "      <td>ADESA</td>\n",
       "      <td>2004</td>\n",
       "      <td>5</td>\n",
       "      <td>DODGE</td>\n",
       "      <td>NEON</td>\n",
       "      <td>SXT</td>\n",
       "      <td>4D SEDAN</td>\n",
       "      <td>...</td>\n",
       "      <td>0</td>\n",
       "      <td>19638</td>\n",
       "      <td>33619</td>\n",
       "      <td>FL</td>\n",
       "      <td>4100.0</td>\n",
       "      <td>0</td>\n",
       "      <td>630</td>\n",
       "      <td>1</td>\n",
       "      <td>0</td>\n",
       "      <td>0</td>\n",
       "    </tr>\n",
       "    <tr>\n",
       "      <th>4</th>\n",
       "      <td>5</td>\n",
       "      <td>0</td>\n",
       "      <td>12/7/2009</td>\n",
       "      <td>ADESA</td>\n",
       "      <td>2005</td>\n",
       "      <td>4</td>\n",
       "      <td>FORD</td>\n",
       "      <td>FOCUS</td>\n",
       "      <td>ZX3</td>\n",
       "      <td>2D COUPE ZX3</td>\n",
       "      <td>...</td>\n",
       "      <td>0</td>\n",
       "      <td>19638</td>\n",
       "      <td>33619</td>\n",
       "      <td>FL</td>\n",
       "      <td>4000.0</td>\n",
       "      <td>0</td>\n",
       "      <td>1020</td>\n",
       "      <td>0</td>\n",
       "      <td>1</td>\n",
       "      <td>0</td>\n",
       "    </tr>\n",
       "  </tbody>\n",
       "</table>\n",
       "<p>5 rows × 36 columns</p>\n",
       "</div>"
      ],
      "text/plain": [
       "   RefId  IsBadBuy  PurchDate Auction  VehYear  VehicleAge   Make  \\\n",
       "0      1         0  12/7/2009   ADESA     2006           3  MAZDA   \n",
       "1      2         0  12/7/2009   ADESA     2004           5  DODGE   \n",
       "2      3         0  12/7/2009   ADESA     2005           4  DODGE   \n",
       "3      4         0  12/7/2009   ADESA     2004           5  DODGE   \n",
       "4      5         0  12/7/2009   ADESA     2005           4   FORD   \n",
       "\n",
       "                 Model Trim           SubModel         ...          AUCGUART  \\\n",
       "0               MAZDA3    i         4D SEDAN I         ...                 0   \n",
       "1  1500 RAM PICKUP 2WD   ST  QUAD CAB 4.7L SLT         ...                 0   \n",
       "2           STRATUS V6  SXT   4D SEDAN SXT FFV         ...                 0   \n",
       "3                 NEON  SXT           4D SEDAN         ...                 0   \n",
       "4                FOCUS  ZX3       2D COUPE ZX3         ...                 0   \n",
       "\n",
       "   BYRNO VNZIP1  VNST VehBCost IsOnlineSale WarrantyCost  ['WheelTypeID']_1.0  \\\n",
       "0  21973  33619    FL   7100.0            0         1113                    1   \n",
       "1  19638  33619    FL   7600.0            0         1053                    1   \n",
       "2  19638  33619    FL   4900.0            0         1389                    0   \n",
       "3  19638  33619    FL   4100.0            0          630                    1   \n",
       "4  19638  33619    FL   4000.0            0         1020                    0   \n",
       "\n",
       "   ['WheelTypeID']_2.0  ['WheelTypeID']_3.0  \n",
       "0                    0                    0  \n",
       "1                    0                    0  \n",
       "2                    1                    0  \n",
       "3                    0                    0  \n",
       "4                    1                    0  \n",
       "\n",
       "[5 rows x 36 columns]"
      ]
     },
     "execution_count": 8,
     "metadata": {},
     "output_type": "execute_result"
    }
   ],
   "source": [
    "data.head(5)"
   ]
  },
  {
   "cell_type": "code",
   "execution_count": 9,
   "metadata": {
    "collapsed": true
   },
   "outputs": [],
   "source": [
    "# Only includes the numerical features\n",
    "## data = data._get_numeric_data()\n",
    "\n",
    "# Encode dummies into features\n",
    "data = pd.get_dummies(data, drop_first=True)"
   ]
  },
  {
   "cell_type": "code",
   "execution_count": 10,
   "metadata": {},
   "outputs": [
    {
     "data": {
      "text/html": [
       "<div>\n",
       "<table border=\"1\" class=\"dataframe\">\n",
       "  <thead>\n",
       "    <tr style=\"text-align: right;\">\n",
       "      <th></th>\n",
       "      <th>RefId</th>\n",
       "      <th>IsBadBuy</th>\n",
       "      <th>VehYear</th>\n",
       "      <th>VehicleAge</th>\n",
       "      <th>VehOdo</th>\n",
       "      <th>MMRAcquisitionAuctionAveragePrice</th>\n",
       "      <th>MMRAcquisitionAuctionCleanPrice</th>\n",
       "      <th>MMRAcquisitionRetailAveragePrice</th>\n",
       "      <th>MMRAcquisitonRetailCleanPrice</th>\n",
       "      <th>MMRCurrentAuctionAveragePrice</th>\n",
       "      <th>...</th>\n",
       "      <th>VNST_OK</th>\n",
       "      <th>VNST_OR</th>\n",
       "      <th>VNST_PA</th>\n",
       "      <th>VNST_SC</th>\n",
       "      <th>VNST_TN</th>\n",
       "      <th>VNST_TX</th>\n",
       "      <th>VNST_UT</th>\n",
       "      <th>VNST_VA</th>\n",
       "      <th>VNST_WA</th>\n",
       "      <th>VNST_WV</th>\n",
       "    </tr>\n",
       "  </thead>\n",
       "  <tbody>\n",
       "    <tr>\n",
       "      <th>0</th>\n",
       "      <td>1</td>\n",
       "      <td>0</td>\n",
       "      <td>2006</td>\n",
       "      <td>3</td>\n",
       "      <td>89046</td>\n",
       "      <td>8155.0</td>\n",
       "      <td>9829.0</td>\n",
       "      <td>11636.0</td>\n",
       "      <td>13600.0</td>\n",
       "      <td>7451.0</td>\n",
       "      <td>...</td>\n",
       "      <td>0</td>\n",
       "      <td>0</td>\n",
       "      <td>0</td>\n",
       "      <td>0</td>\n",
       "      <td>0</td>\n",
       "      <td>0</td>\n",
       "      <td>0</td>\n",
       "      <td>0</td>\n",
       "      <td>0</td>\n",
       "      <td>0</td>\n",
       "    </tr>\n",
       "  </tbody>\n",
       "</table>\n",
       "<p>1 rows × 2712 columns</p>\n",
       "</div>"
      ],
      "text/plain": [
       "   RefId  IsBadBuy  VehYear  VehicleAge  VehOdo  \\\n",
       "0      1         0     2006           3   89046   \n",
       "\n",
       "   MMRAcquisitionAuctionAveragePrice  MMRAcquisitionAuctionCleanPrice  \\\n",
       "0                             8155.0                           9829.0   \n",
       "\n",
       "   MMRAcquisitionRetailAveragePrice  MMRAcquisitonRetailCleanPrice  \\\n",
       "0                           11636.0                        13600.0   \n",
       "\n",
       "   MMRCurrentAuctionAveragePrice   ...     VNST_OK  VNST_OR  VNST_PA  VNST_SC  \\\n",
       "0                         7451.0   ...           0        0        0        0   \n",
       "\n",
       "   VNST_TN  VNST_TX  VNST_UT  VNST_VA  VNST_WA  VNST_WV  \n",
       "0        0        0        0        0        0        0  \n",
       "\n",
       "[1 rows x 2712 columns]"
      ]
     },
     "execution_count": 10,
     "metadata": {},
     "output_type": "execute_result"
    }
   ],
   "source": [
    "data.head(1)"
   ]
  },
  {
   "cell_type": "code",
   "execution_count": 11,
   "metadata": {
    "collapsed": true
   },
   "outputs": [],
   "source": [
    "# shuffle data sequence in random\n",
    "from sklearn.utils import shuffle\n",
    "data_shf = shuffle(data)\n",
    "\n",
    "# m: no. of samples\n",
    "# n: no. of features\n",
    "(m, n) = data_shf.shape"
   ]
  },
  {
   "cell_type": "code",
   "execution_count": 12,
   "metadata": {},
   "outputs": [
    {
     "data": {
      "text/plain": [
       "(72983, 2712)"
      ]
     },
     "execution_count": 12,
     "metadata": {},
     "output_type": "execute_result"
    }
   ],
   "source": [
    "m, n"
   ]
  },
  {
   "cell_type": "code",
   "execution_count": 13,
   "metadata": {
    "collapsed": true
   },
   "outputs": [],
   "source": [
    "# Identify feature columns\n",
    "fea_cols = data_shf.columns[2:]\n",
    "\n",
    "X = data_shf[fea_cols]\n",
    "Y = data_shf['IsBadBuy']"
   ]
  },
  {
   "cell_type": "code",
   "execution_count": 14,
   "metadata": {},
   "outputs": [
    {
     "name": "stdout",
     "output_type": "stream",
     "text": [
      "(72983, 2710) (72983,)\n"
     ]
    }
   ],
   "source": [
    "print (X.shape, Y.shape)"
   ]
  },
  {
   "cell_type": "code",
   "execution_count": 15,
   "metadata": {
    "collapsed": true
   },
   "outputs": [],
   "source": [
    "# Normalizing feaures\n",
    "from sklearn.preprocessing import StandardScaler\n",
    "normalized_X = StandardScaler().fit_transform(X)"
   ]
  },
  {
   "cell_type": "code",
   "execution_count": 16,
   "metadata": {
    "collapsed": true
   },
   "outputs": [],
   "source": [
    "## Perfoming PCA\n",
    "from sklearn import decomposition\n",
    "pca = decomposition.PCA(n_components=1000)\n",
    "proj_X = pca.fit_transform(normalized_X)"
   ]
  },
  {
   "cell_type": "code",
   "execution_count": 17,
   "metadata": {},
   "outputs": [
    {
     "data": {
      "image/png": "[encoded data removed]",
      "text/plain": [
       "<matplotlib.figure.Figure at 0x1163356a0>"
      ]
     },
     "metadata": {},
     "output_type": "display_data"
    }
   ],
   "source": [
    "# Drawing anamoly dot on projected X \n",
    "plt.scatter(proj_X[:, 0], proj_X[:, 1], c=Y, cmap='jet')\n",
    "plt.colorbar()\n",
    "\n",
    "# title and label\n",
    "plt.title('Anamaly detection on PCA')\n",
    "plt.xlabel('proj_X_1')\n",
    "plt.ylabel('proj_X_2')\n",
    "\n",
    "plt.show()"
   ]
  },
  {
   "cell_type": "code",
   "execution_count": 18,
   "metadata": {},
   "outputs": [
    {
     "data": {
      "image/png": "[encoded data removed]",
      "text/plain": [
       "<matplotlib.figure.Figure at 0x116335240>"
      ]
     },
     "metadata": {},
     "output_type": "display_data"
    }
   ],
   "source": [
    "# Drawing Variance Explained on PCA \n",
    "plt.plot(np.cumsum(pca.explained_variance_ratio_))\n",
    "\n",
    "# title and label\n",
    "plt.title('variance explained on PCA')\n",
    "plt.xlabel('no of pricipal components')\n",
    "plt.ylabel('Variance Explained')\n",
    "\n",
    "plt.show()"
   ]
  },
  {
   "cell_type": "code",
   "execution_count": 19,
   "metadata": {},
   "outputs": [
    {
     "data": {
      "text/plain": [
       "array([ 0.00394422,  0.00268686,  0.00247846,  0.0021424 ,  0.00175738,\n",
       "        0.00163923,  0.00152508,  0.00151279,  0.00149613,  0.00148237,\n",
       "        0.00144039,  0.00140955,  0.00138941,  0.00136184,  0.00135545,\n",
       "        0.00133691,  0.00132028,  0.00130182,  0.00128309,  0.00127508,\n",
       "        0.00126384,  0.00124868,  0.00124066,  0.00123387,  0.00121692,\n",
       "        0.00120056,  0.00119449,  0.0011533 ,  0.00114733,  0.00113629,\n",
       "        0.00113122,  0.00111897,  0.00111321,  0.00111298,  0.00110941,\n",
       "        0.00110905,  0.0010994 ,  0.00109744,  0.00109416,  0.00107724,\n",
       "        0.00107016,  0.00106572,  0.00105811,  0.00104397,  0.0010395 ,\n",
       "        0.00102846,  0.0010125 ,  0.0010079 ,  0.00100611,  0.00100122,\n",
       "        0.00099614,  0.00099308,  0.00099167,  0.0009849 ,  0.00097723,\n",
       "        0.00097615,  0.00097291,  0.00097183,  0.00096513,  0.00095782,\n",
       "        0.00095139,  0.00094643,  0.00094595,  0.00093906,  0.0009372 ,\n",
       "        0.0009333 ,  0.00093108,  0.00092745,  0.00092372,  0.00092052,\n",
       "        0.00091449,  0.00091024,  0.00090181,  0.00089906,  0.00089263,\n",
       "        0.00088939,  0.00088729,  0.00088376,  0.0008835 ,  0.0008802 ,\n",
       "        0.00087683,  0.00087415,  0.00087307,  0.00087009,  0.00086604,\n",
       "        0.00086513,  0.00086305,  0.00086047,  0.0008587 ,  0.00085432,\n",
       "        0.00085045,  0.00084724,  0.00084571,  0.00084163,  0.00083705,\n",
       "        0.00083273,  0.00083165,  0.00082933,  0.00082628,  0.00082392,\n",
       "        0.0008208 ,  0.00082008,  0.00081662,  0.00081031,  0.00080987,\n",
       "        0.00080888,  0.00080595,  0.00080425,  0.00080173,  0.00079983,\n",
       "        0.00079852,  0.00079732,  0.00079614,  0.00079552,  0.00079144,\n",
       "        0.00079067,  0.00078971,  0.0007881 ,  0.00078692,  0.00078447,\n",
       "        0.00078246,  0.00078111,  0.00078031,  0.00077796,  0.00077607,\n",
       "        0.00077347,  0.00077285,  0.00077117,  0.00076982,  0.00076917,\n",
       "        0.00076851,  0.00076618,  0.00076493,  0.00076446,  0.00076268,\n",
       "        0.00076028,  0.00075988,  0.00075899,  0.00075827,  0.0007572 ,\n",
       "        0.00075657,  0.00075492,  0.00075419,  0.00075412,  0.00075335,\n",
       "        0.00075238,  0.00075142,  0.00075075,  0.00075026,  0.00074957,\n",
       "        0.00074889,  0.00074801,  0.00074742,  0.00074727,  0.00074689,\n",
       "        0.00074573,  0.00074568,  0.00074545,  0.00074489,  0.00074486,\n",
       "        0.00074437,  0.00074413,  0.00074374,  0.00074357,  0.00074339,\n",
       "        0.00074316,  0.00074295,  0.00074271,  0.00074244,  0.0007423 ,\n",
       "        0.0007422 ,  0.00074199,  0.00074166,  0.00074138,  0.00074101,\n",
       "        0.00074084,  0.00074081,  0.00074032,  0.00074017,  0.00074006,\n",
       "        0.00073986,  0.00073949,  0.00073943,  0.000739  ,  0.00073898,\n",
       "        0.00073886,  0.00073809,  0.0007379 ,  0.00073727,  0.00073641,\n",
       "        0.00073554,  0.00073393,  0.00073258,  0.00073239,  0.00073085,\n",
       "        0.00073069,  0.00072802,  0.00072727,  0.00072627,  0.0007255 ,\n",
       "        0.00072339,  0.00072287,  0.00072177,  0.00072031,  0.00071807,\n",
       "        0.00071605,  0.00071556,  0.000713  ,  0.00071196,  0.00071087,\n",
       "        0.00071062,  0.00070913,  0.00070844,  0.00070668,  0.00070605,\n",
       "        0.00070437,  0.00070337,  0.00070248,  0.00070146,  0.00070101,\n",
       "        0.00069938,  0.00069852,  0.00069473,  0.00069398,  0.00069182,\n",
       "        0.00068967,  0.00068812,  0.00068776,  0.00068647,  0.00068607,\n",
       "        0.00068498,  0.00068434,  0.00068333,  0.00068273,  0.00068233,\n",
       "        0.0006818 ,  0.00068113,  0.00068041,  0.00067944,  0.00067886,\n",
       "        0.00067746,  0.00067731,  0.00067616,  0.00067551,  0.00067456,\n",
       "        0.0006739 ,  0.00067358,  0.0006723 ,  0.00067194,  0.00067115,\n",
       "        0.00066886,  0.0006668 ,  0.0006643 ,  0.00066167,  0.00065928,\n",
       "        0.00065855,  0.0006552 ,  0.00065232,  0.00064998,  0.00064833,\n",
       "        0.00064791,  0.00064555,  0.00064316,  0.00064253,  0.00064102,\n",
       "        0.00063808,  0.00063665,  0.00063521,  0.00063433,  0.00063391,\n",
       "        0.00063292,  0.00063077,  0.0006294 ,  0.00062711,  0.00062648,\n",
       "        0.00062589,  0.00062417,  0.00062286,  0.00062054,  0.00062034,\n",
       "        0.00062004,  0.00061896,  0.00061832,  0.00061665,  0.0006164 ,\n",
       "        0.00061504,  0.00061407,  0.0006132 ,  0.0006105 ,  0.00060976,\n",
       "        0.00060885,  0.00060708,  0.00060697,  0.00060653,  0.0006039 ,\n",
       "        0.00060223,  0.00060131,  0.00059989,  0.0005984 ,  0.00059758,\n",
       "        0.0005962 ,  0.00059519,  0.00059384,  0.00059137,  0.00059026,\n",
       "        0.00058585,  0.00058326,  0.00058271,  0.00058165,  0.00057974,\n",
       "        0.00057917,  0.0005755 ,  0.00057423,  0.00057348,  0.00057153,\n",
       "        0.00057094,  0.00056938,  0.00056792,  0.00056783,  0.00056606,\n",
       "        0.00056379,  0.00056324,  0.00056185,  0.00056118,  0.00056015,\n",
       "        0.00055831,  0.00055685,  0.00055496,  0.00055475,  0.00055439,\n",
       "        0.00055369,  0.00055273,  0.0005517 ,  0.00055091,  0.00055017,\n",
       "        0.00054928,  0.0005486 ,  0.00054797,  0.00054711,  0.00054677,\n",
       "        0.00054583,  0.00054408,  0.00054389,  0.00054331,  0.00054289,\n",
       "        0.0005421 ,  0.00054101,  0.0005403 ,  0.00053952,  0.000539  ,\n",
       "        0.00053765,  0.00053539,  0.00053533,  0.00053358,  0.00053298,\n",
       "        0.00053199,  0.00053058,  0.00052969,  0.00052867,  0.00052785,\n",
       "        0.0005266 ,  0.00052533,  0.00052462,  0.00052301,  0.00052233,\n",
       "        0.00052043,  0.00051917,  0.00051815,  0.00051707,  0.00051675,\n",
       "        0.00051573,  0.00051395,  0.00051341,  0.00051278,  0.0005124 ,\n",
       "        0.00051204,  0.00051168,  0.00051112,  0.00050919,  0.00050885,\n",
       "        0.00050829,  0.0005077 ,  0.00050694,  0.0005064 ,  0.00050542,\n",
       "        0.00050508,  0.00050413,  0.00050332,  0.00050247,  0.00050194,\n",
       "        0.00050158,  0.0005005 ,  0.0004998 ,  0.00049937,  0.00049899,\n",
       "        0.00049765,  0.00049692,  0.0004965 ,  0.00049556,  0.00049538,\n",
       "        0.00049429,  0.00049351,  0.0004933 ,  0.00049239,  0.00049202,\n",
       "        0.0004904 ,  0.00048994,  0.00048861,  0.00048782,  0.00048697,\n",
       "        0.00048649,  0.00048581,  0.00048435,  0.00048369,  0.00048312,\n",
       "        0.00048247,  0.00048186,  0.00048108,  0.00048022,  0.00047866,\n",
       "        0.0004779 ,  0.0004769 ,  0.00047636,  0.00047591,  0.00047511,\n",
       "        0.00047404,  0.00047377,  0.00047288,  0.00047248,  0.00047154,\n",
       "        0.00047147,  0.00047064,  0.00047039,  0.00046931,  0.00046903,\n",
       "        0.00046804,  0.00046783,  0.00046716,  0.0004665 ,  0.00046564,\n",
       "        0.00046515,  0.00046472,  0.00046452,  0.00046411,  0.00046286,\n",
       "        0.00046257,  0.0004622 ,  0.00046192,  0.00046114,  0.00046095,\n",
       "        0.00046011,  0.00045969,  0.00045939,  0.00045838,  0.00045805,\n",
       "        0.00045768,  0.00045732,  0.00045684,  0.00045642,  0.00045589,\n",
       "        0.0004552 ,  0.00045498,  0.00045465,  0.00045377,  0.00045364,\n",
       "        0.00045321,  0.00045267,  0.00045229,  0.00045175,  0.0004515 ,\n",
       "        0.00045108,  0.00045   ,  0.00044981,  0.00044912,  0.000449  ,\n",
       "        0.00044881,  0.00044763,  0.00044741,  0.00044668,  0.00044646,\n",
       "        0.00044595,  0.00044592,  0.00044502,  0.00044422,  0.0004441 ,\n",
       "        0.00044363,  0.00044342,  0.00044314,  0.00044283,  0.00044246,\n",
       "        0.0004422 ,  0.00044194,  0.00044141,  0.00044134,  0.00044025,\n",
       "        0.00044016,  0.00043993,  0.00043935,  0.00043893,  0.00043844,\n",
       "        0.0004383 ,  0.0004381 ,  0.00043761,  0.00043728,  0.00043715,\n",
       "        0.00043675,  0.00043651,  0.00043595,  0.00043535,  0.00043479,\n",
       "        0.00043463,  0.00043415,  0.00043408,  0.00043396,  0.00043326,\n",
       "        0.00043316,  0.00043304,  0.0004326 ,  0.00043245,  0.00043208,\n",
       "        0.0004316 ,  0.00043145,  0.00043134,  0.00043096,  0.00043064,\n",
       "        0.00043016,  0.00042984,  0.00042926,  0.00042905,  0.00042868,\n",
       "        0.00042855,  0.00042846,  0.00042809,  0.00042782,  0.0004275 ,\n",
       "        0.00042715,  0.0004269 ,  0.0004267 ,  0.00042636,  0.00042619,\n",
       "        0.00042602,  0.00042571,  0.00042543,  0.00042518,  0.000425  ,\n",
       "        0.00042454,  0.00042428,  0.0004241 ,  0.0004238 ,  0.00042352,\n",
       "        0.00042326,  0.00042316,  0.00042302,  0.00042265,  0.00042238,\n",
       "        0.00042223,  0.000422  ,  0.00042175,  0.00042162,  0.00042142,\n",
       "        0.00042098,  0.00042081,  0.00042058,  0.0004203 ,  0.00042002,\n",
       "        0.00041982,  0.00041958,  0.00041932,  0.00041928,  0.00041905,\n",
       "        0.00041878,  0.00041872,  0.00041823,  0.0004181 ,  0.00041775,\n",
       "        0.00041749,  0.00041737,  0.00041709,  0.00041656,  0.00041647,\n",
       "        0.00041623,  0.00041608,  0.00041585,  0.00041578,  0.00041557,\n",
       "        0.00041535,  0.00041512,  0.00041495,  0.00041474,  0.00041467,\n",
       "        0.00041427,  0.00041413,  0.00041397,  0.00041374,  0.0004135 ,\n",
       "        0.0004133 ,  0.00041306,  0.00041293,  0.00041249,  0.00041226,\n",
       "        0.00041222,  0.00041209,  0.00041193,  0.00041157,  0.00041149,\n",
       "        0.00041135,  0.00041115,  0.00041077,  0.00041053,  0.00041021,\n",
       "        0.00041004,  0.00040985,  0.00040975,  0.00040965,  0.00040942,\n",
       "        0.00040913,  0.00040888,  0.00040867,  0.00040855,  0.00040829,\n",
       "        0.00040813,  0.00040802,  0.00040788,  0.0004076 ,  0.00040742,\n",
       "        0.0004071 ,  0.00040699,  0.00040691,  0.00040665,  0.00040643,\n",
       "        0.00040618,  0.00040599,  0.00040582,  0.00040577,  0.00040576,\n",
       "        0.00040549,  0.00040523,  0.00040509,  0.00040492,  0.00040487,\n",
       "        0.00040434,  0.00040413,  0.00040396,  0.0004039 ,  0.00040372,\n",
       "        0.0004037 ,  0.00040349,  0.00040335,  0.00040314,  0.00040301,\n",
       "        0.00040281,  0.00040269,  0.00040256,  0.00040236,  0.00040218,\n",
       "        0.00040186,  0.00040169,  0.00040165,  0.00040139,  0.00040113,\n",
       "        0.00040094,  0.00040085,  0.00040057,  0.00040046,  0.0004002 ,\n",
       "        0.00040006,  0.00039993,  0.00039967,  0.00039954,  0.00039941,\n",
       "        0.0003992 ,  0.00039897,  0.00039883,  0.00039873,  0.0003985 ,\n",
       "        0.00039845,  0.00039822,  0.00039777,  0.00039766,  0.00039757,\n",
       "        0.00039735,  0.00039728,  0.00039713,  0.00039703,  0.00039695,\n",
       "        0.00039657,  0.00039649,  0.00039624,  0.00039617,  0.00039599,\n",
       "        0.00039587,  0.00039545,  0.00039524,  0.00039512,  0.00039497,\n",
       "        0.00039489,  0.00039481,  0.00039443,  0.00039427,  0.00039411,\n",
       "        0.00039409,  0.00039405,  0.00039377,  0.00039348,  0.00039341,\n",
       "        0.00039327,  0.00039306,  0.00039303,  0.00039289,  0.00039268,\n",
       "        0.00039255,  0.00039237,  0.00039232,  0.0003921 ,  0.00039202,\n",
       "        0.00039191,  0.00039175,  0.0003916 ,  0.00039134,  0.00039126,\n",
       "        0.00039102,  0.00039096,  0.00039071,  0.00039065,  0.00039043,\n",
       "        0.00039032,  0.00039018,  0.00038983,  0.00038978,  0.00038963,\n",
       "        0.00038942,  0.00038926,  0.00038917,  0.00038904,  0.00038893,\n",
       "        0.00038883,  0.0003887 ,  0.0003885 ,  0.00038842,  0.00038815,\n",
       "        0.00038813,  0.00038784,  0.00038766,  0.0003875 ,  0.00038748,\n",
       "        0.00038731,  0.00038724,  0.00038712,  0.0003869 ,  0.0003867 ,\n",
       "        0.00038659,  0.00038656,  0.00038632,  0.0003862 ,  0.00038598,\n",
       "        0.00038588,  0.00038571,  0.00038556,  0.0003855 ,  0.00038539,\n",
       "        0.00038524,  0.00038501,  0.00038479,  0.00038467,  0.0003844 ,\n",
       "        0.00038427,  0.00038418,  0.00038409,  0.00038377,  0.00038367,\n",
       "        0.00038356,  0.00038341,  0.0003832 ,  0.00038308,  0.00038304,\n",
       "        0.0003828 ,  0.00038272,  0.00038259,  0.00038247,  0.00038236,\n",
       "        0.00038217,  0.00038205,  0.00038196,  0.00038175,  0.0003817 ,\n",
       "        0.00038141,  0.00038136,  0.00038119,  0.00038101,  0.0003809 ,\n",
       "        0.00038072,  0.00038061,  0.00038055,  0.00038033,  0.00038028,\n",
       "        0.00038016,  0.00037997,  0.00037992,  0.00037965,  0.00037948,\n",
       "        0.00037948,  0.00037936,  0.00037921,  0.0003791 ,  0.00037898,\n",
       "        0.00037884,  0.00037875,  0.00037858,  0.00037849,  0.00037843,\n",
       "        0.0003783 ,  0.00037806,  0.00037799,  0.00037771,  0.00037763,\n",
       "        0.00037749,  0.0003774 ,  0.00037735,  0.0003773 ,  0.00037706,\n",
       "        0.00037687,  0.00037683,  0.0003767 ,  0.00037665,  0.00037646,\n",
       "        0.00037636,  0.00037617,  0.00037586,  0.0003758 ,  0.0003757 ,\n",
       "        0.00037549,  0.00037547,  0.00037541,  0.00037531,  0.00037516,\n",
       "        0.000375  ,  0.00037494,  0.00037492,  0.00037473,  0.00037453,\n",
       "        0.00037449,  0.00037432,  0.00037416,  0.00037409,  0.000374  ,\n",
       "        0.0003739 ,  0.00037369,  0.00037358,  0.00037345,  0.00037332,\n",
       "        0.00037322,  0.00037314,  0.00037286,  0.00037281,  0.00037275,\n",
       "        0.00037259,  0.00037235,  0.00037228,  0.00037205,  0.00037194,\n",
       "        0.00037186,  0.00037179,  0.00037168,  0.00037148,  0.00037142,\n",
       "        0.00037129,  0.000371  ,  0.00037096,  0.00037088,  0.00037078,\n",
       "        0.0003707 ,  0.00037055,  0.00037047,  0.00037042,  0.00037028,\n",
       "        0.00037018,  0.00037016,  0.00037004,  0.00036979,  0.00036964,\n",
       "        0.00036945,  0.00036928,  0.00036919,  0.00036894,  0.00036888,\n",
       "        0.00036882,  0.00036876,  0.00036853,  0.0003685 ,  0.00036839,\n",
       "        0.0003682 ,  0.00036815,  0.00036802,  0.0003679 ,  0.00036777,\n",
       "        0.00036763,  0.00036752,  0.00036745,  0.00036734,  0.00036725,\n",
       "        0.00036717,  0.00036703,  0.00036689,  0.00036677,  0.00036656,\n",
       "        0.00036653,  0.00036639,  0.00036618,  0.00036608,  0.00036595,\n",
       "        0.00036581,  0.00036567,  0.0003656 ,  0.00036552,  0.00036542,\n",
       "        0.00036538,  0.00036521,  0.00036511,  0.00036493,  0.00036477,\n",
       "        0.00036467,  0.00036458,  0.0003645 ,  0.00036439,  0.0003642 ,\n",
       "        0.00036417,  0.00036411,  0.00036402,  0.00036377,  0.00036362,\n",
       "        0.00036352,  0.00036346,  0.00036327,  0.00036313,  0.00036287,\n",
       "        0.00036285,  0.00036266,  0.00036257,  0.00036239,  0.0003623 ,\n",
       "        0.00036228,  0.00036214,  0.00036197,  0.00036181,  0.0003617 ,\n",
       "        0.00036153,  0.00036146,  0.00036138,  0.0003612 ,  0.00036101,\n",
       "        0.00036092,  0.00036073,  0.00036057,  0.00036051,  0.00036034,\n",
       "        0.00036023,  0.00036006,  0.00035986,  0.00035968,  0.00035957,\n",
       "        0.00035942,  0.00035937,  0.00035915,  0.00035876,  0.00035871,\n",
       "        0.00035859,  0.00035846,  0.00035828,  0.00035822,  0.00035809,\n",
       "        0.00035771,  0.00035754,  0.00035733,  0.00035721,  0.00035704,\n",
       "        0.00035682,  0.00035668,  0.00035642,  0.00035632,  0.0003562 ,\n",
       "        0.00035613,  0.000356  ,  0.00035575,  0.00035561,  0.00035538,\n",
       "        0.00035525,  0.00035488,  0.00035482,  0.00035475,  0.00035451,\n",
       "        0.00035395,  0.00035388,  0.0003536 ,  0.00035326,  0.00035305,\n",
       "        0.00035291,  0.00035246,  0.00035233,  0.0003518 ,  0.00035167])"
      ]
     },
     "execution_count": 19,
     "metadata": {},
     "output_type": "execute_result"
    }
   ],
   "source": [
    "pca.explained_variance_ratio_"
   ]
  },
  {
   "cell_type": "code",
   "execution_count": 20,
   "metadata": {},
   "outputs": [
    {
     "data": {
      "text/plain": [
       "(72983, 1000)"
      ]
     },
     "execution_count": 20,
     "metadata": {},
     "output_type": "execute_result"
    }
   ],
   "source": [
    "proj_X.shape"
   ]
  },
  {
   "cell_type": "code",
   "execution_count": 21,
   "metadata": {
    "collapsed": true
   },
   "outputs": [],
   "source": [
    "proj_X = proj_X[:, :20]"
   ]
  },
  {
   "cell_type": "code",
   "execution_count": 22,
   "metadata": {},
   "outputs": [
    {
     "data": {
      "text/plain": [
       "(72983, 20)"
      ]
     },
     "execution_count": 22,
     "metadata": {},
     "output_type": "execute_result"
    }
   ],
   "source": [
    "proj_X.shape"
   ]
  },
  {
   "cell_type": "code",
   "execution_count": 23,
   "metadata": {
    "collapsed": true
   },
   "outputs": [],
   "source": [
    "# folds for training and testing\n",
    "folds = 5"
   ]
  },
  {
   "cell_type": "code",
   "execution_count": 24,
   "metadata": {
    "collapsed": true
   },
   "outputs": [],
   "source": [
    "# Slicing into training and testing set\n",
    "ta_x = proj_X[round(m/folds) + 1:]\n",
    "ta_y = Y[round(m/folds) + 1:]\n",
    "\n",
    "tt_x = proj_X[:round(m/folds)]\n",
    "tt_y = Y[:round(m/folds)]"
   ]
  },
  {
   "cell_type": "code",
   "execution_count": null,
   "metadata": {
    "collapsed": true
   },
   "outputs": [],
   "source": []
  },
  {
   "cell_type": "code",
   "execution_count": 25,
   "metadata": {
    "collapsed": true
   },
   "outputs": [],
   "source": [
    "# Logistic Regression and SVM\n",
    "from sklearn import svm\n",
    "from sklearn.metrics import precision_recall_fscore_support\n"
   ]
  },
  {
   "cell_type": "code",
   "execution_count": null,
   "metadata": {
    "collapsed": true
   },
   "outputs": [],
   "source": []
  },
  {
   "cell_type": "code",
   "execution_count": 26,
   "metadata": {},
   "outputs": [
    {
     "name": "stdout",
     "output_type": "stream",
     "text": [
      "===== IsolationForest =====\n",
      "(Precision, Recall, fbeta_score, None) :  (0.1254877955467136, 0.88648648648648654, 0.21985387760573769, None)\n"
     ]
    }
   ],
   "source": [
    "## IsolationForest\n",
    "from sklearn.ensemble import IsolationForest\n",
    "clf = IsolationForest(max_samples=500)\n",
    "\n",
    "# Training\n",
    "ta_x_isofro = ta_x[ np.where(ta_y == 0)[0] ]\n",
    "\n",
    "clf.fit(ta_x_isofro)\n",
    "\n",
    "# Prediction\n",
    "tt_pred_y = clf.predict(tt_x)\n",
    "np.place(tt_pred_y, tt_pred_y==-1, 0)\n",
    "\n",
    "# Performance measurement\n",
    "print ('===== IsolationForest =====')\n",
    "print ( '(Precision, Recall, fbeta_score, None) : ', precision_recall_fscore_support(tt_y, tt_pred_y, average='binary'))"
   ]
  },
  {
   "cell_type": "code",
   "execution_count": null,
   "metadata": {
    "collapsed": true
   },
   "outputs": [],
   "source": []
  },
  {
   "cell_type": "code",
   "execution_count": 27,
   "metadata": {},
   "outputs": [
    {
     "name": "stdout",
     "output_type": "stream",
     "text": [
      "===== Unsupervised SVM =====\n",
      "(Precision, Recall, fbeta_score, None):  (0.11601981833195706, 0.45567567567567568, 0.18494953927161037, None)\n"
     ]
    }
   ],
   "source": [
    "## Unsupervised SVM\n",
    "clf = svm.OneClassSVM(kernel=\"rbf\")\n",
    "ta_x_regular = ta_x[ np.where(ta_y == 0)[0] ]\n",
    "clf.fit(ta_x_regular)\n",
    "\n",
    "# SVM Prediction\n",
    "\n",
    "tt_pred_y = clf.predict(tt_x)\n",
    "\n",
    "# Performance measurement\n",
    "print ('===== Unsupervised SVM =====')\n",
    "print ( '(Precision, Recall, fbeta_score, None): ', precision_recall_fscore_support(tt_y, tt_pred_y, average='binary'))"
   ]
  },
  {
   "cell_type": "code",
   "execution_count": null,
   "metadata": {
    "collapsed": true
   },
   "outputs": [],
   "source": []
  },
  {
   "cell_type": "code",
   "execution_count": null,
   "metadata": {
    "collapsed": true
   },
   "outputs": [],
   "source": []
  },
  {
   "cell_type": "code",
   "execution_count": 29,
   "metadata": {},
   "outputs": [
    {
     "name": "stdout",
     "output_type": "stream",
     "text": [
      "===== Logistic Regression =====\n",
      "(Precision, Recall, fbeta_score, None) :  (0.0, 0.0, 0.0, None)\n"
     ]
    },
    {
     "name": "stderr",
     "output_type": "stream",
     "text": [
      "/Users/duke/anaconda/envs/py36/lib/python3.6/site-packages/sklearn/metrics/classification.py:1113: UndefinedMetricWarning: Precision and F-score are ill-defined and being set to 0.0 due to no predicted samples.\n",
      "  'precision', 'predicted', average, warn_for)\n"
     ]
    }
   ],
   "source": [
    "## Logistic Regression\n",
    "clf = svm.SVC()\n",
    "\n",
    "# Linear Kernel\n",
    "clf.set_params(kernel='linear').fit(ta_x, ta_y)\n",
    "\n",
    "# Logistic Regression Prediction\n",
    "tt_pred_y = clf.predict(tt_x)\n",
    "\n",
    "# Performance measurement\n",
    "print ('===== Logistic Regression =====')\n",
    "print ( '(Precision, Recall, fbeta_score, None) : ', precision_recall_fscore_support(tt_y, tt_pred_y, average='binary'))"
   ]
  },
  {
   "cell_type": "code",
   "execution_count": 28,
   "metadata": {},
   "outputs": [
    {
     "name": "stdout",
     "output_type": "stream",
     "text": [
      "===== SVM =====\n",
      "(Precision, Recall, fbeta_score, None) :  (0.59999999999999998, 0.0016216216216216215, 0.003234501347708895, None)\n"
     ]
    }
   ],
   "source": [
    "## SVM\n",
    "clf = svm.SVC()\n",
    "\n",
    "# RBF Kernel\n",
    "clf.set_params(kernel='rbf').fit(ta_x, ta_y)\n",
    "\n",
    "# SVM Prediction\n",
    "tt_pred_y = clf.predict(tt_x)\n",
    "\n",
    "# Performance measurement\n",
    "print ('===== SVM =====')\n",
    "print ( '(Precision, Recall, fbeta_score, None) : ', precision_recall_fscore_support(tt_y, tt_pred_y, average='binary'))"
   ]
  },
  {
   "cell_type": "code",
   "execution_count": null,
   "metadata": {
    "collapsed": true
   },
   "outputs": [],
   "source": []
  },
  {
   "cell_type": "markdown",
   "metadata": {},
   "source": [
    "# Summary\n",
    "\n",
    "## Procedure:\n",
    "* read from csv file\n",
    "* dealing with missing values\n",
    "* encoding every category features\n",
    "* performing PCA to reduce dimension\n",
    "* performing differenct models\n",
    "\n",
    "\n",
    "## Conclusion \n",
    "As we can see from the anamoly projection after performing PCA (the blue dots represent the normal samples, while the red dots represent the anamoly), the distribution of BadBuy neither is a normal distribution nor has a clear boundry between the regular one and the anamoly. Thus, it makes detection harder for simple models.\n",
    "\n",
    "Due to computing resources and time, only the first 20 eigen-vector are used to perform further model fitting. If time and resources are allowed, the way to improving the result may be the following:\n",
    "* feature engineering, to find the suitable feautures for the detection, i.e. add complex feature such as x -> x^2 \n",
    "* cross validation, to find the best parameter\n",
    "\n",
    "\n",
    "Since the problem wants to detect the anaomoly (around 1/7 of data), we need to find the few outliers. Thus, we care more about recall than precision. Based on the four model above, IsolationForest performance the best on recall 0.89, while SVM perform the best on precision 0.59.\n",
    "\n"
   ]
  },
  {
   "cell_type": "code",
   "execution_count": null,
   "metadata": {
    "collapsed": true
   },
   "outputs": [],
   "source": []
  }
 ],
 "metadata": {
  "anaconda-cloud": {},
  "kernelspec": {
   "display_name": "Python [conda env:py36]",
   "language": "python",
   "name": "conda-env-py36-py"
  },
  "language_info": {
   "codemirror_mode": {
    "name": "ipython",
    "version": 3
   },
   "file_extension": ".py",
   "mimetype": "text/x-python",
   "name": "python",
   "nbconvert_exporter": "python",
   "pygments_lexer": "ipython3",
   "version": "3.6.0"
  }
 },
 "nbformat": 4,
 "nbformat_minor": 2
}
